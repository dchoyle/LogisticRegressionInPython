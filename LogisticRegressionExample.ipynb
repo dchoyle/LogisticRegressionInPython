{
 "cells": [
  {
   "cell_type": "code",
   "execution_count": 1,
   "metadata": {},
   "outputs": [
    {
     "name": "stdout",
     "output_type": "stream",
     "text": [
      "Requirement already satisfied: matplotlib in c:\\users\\44789\\anaconda3\\lib\\site-packages (3.1.1)\n",
      "Requirement already satisfied: pyparsing!=2.0.4,!=2.1.2,!=2.1.6,>=2.0.1 in c:\\users\\44789\\anaconda3\\lib\\site-packages (from matplotlib) (2.4.2)\n",
      "Requirement already satisfied: cycler>=0.10 in c:\\users\\44789\\anaconda3\\lib\\site-packages (from matplotlib) (0.10.0)\n",
      "Requirement already satisfied: kiwisolver>=1.0.1 in c:\\users\\44789\\anaconda3\\lib\\site-packages (from matplotlib) (1.1.0)\n",
      "Requirement already satisfied: python-dateutil>=2.1 in c:\\users\\44789\\anaconda3\\lib\\site-packages (from matplotlib) (2.8.0)\n",
      "Requirement already satisfied: numpy>=1.11 in c:\\users\\44789\\anaconda3\\lib\\site-packages (from matplotlib) (1.16.4)\n",
      "Requirement already satisfied: six in c:\\users\\44789\\anaconda3\\lib\\site-packages (from cycler>=0.10->matplotlib) (1.12.0)\n",
      "Requirement already satisfied: setuptools in c:\\users\\44789\\anaconda3\\lib\\site-packages (from kiwisolver>=1.0.1->matplotlib) (41.0.1)\n"
     ]
    }
   ],
   "source": [
    "!pip install matplotlib"
   ]
  },
  {
   "cell_type": "code",
   "execution_count": 2,
   "metadata": {},
   "outputs": [
    {
     "name": "stdout",
     "output_type": "stream",
     "text": [
      "Requirement already satisfied: statsmodels in c:\\users\\44789\\anaconda3\\lib\\site-packages (0.10.1)\n",
      "Requirement already satisfied: numpy>=1.11 in c:\\users\\44789\\anaconda3\\lib\\site-packages (from statsmodels) (1.16.4)\n",
      "Requirement already satisfied: scipy>=0.18 in c:\\users\\44789\\anaconda3\\lib\\site-packages (from statsmodels) (1.3.0)\n",
      "Requirement already satisfied: pandas>=0.19 in c:\\users\\44789\\anaconda3\\lib\\site-packages (from statsmodels) (0.25.0)\n",
      "Requirement already satisfied: patsy>=0.4.0 in c:\\users\\44789\\anaconda3\\lib\\site-packages (from statsmodels) (0.5.1)\n",
      "Requirement already satisfied: python-dateutil>=2.6.1 in c:\\users\\44789\\anaconda3\\lib\\site-packages (from pandas>=0.19->statsmodels) (2.8.0)\n",
      "Requirement already satisfied: pytz>=2017.2 in c:\\users\\44789\\anaconda3\\lib\\site-packages (from pandas>=0.19->statsmodels) (2019.1)\n",
      "Requirement already satisfied: six in c:\\users\\44789\\anaconda3\\lib\\site-packages (from patsy>=0.4.0->statsmodels) (1.12.0)\n"
     ]
    }
   ],
   "source": [
    "!pip install statsmodels"
   ]
  },
  {
   "cell_type": "code",
   "execution_count": 3,
   "metadata": {},
   "outputs": [],
   "source": [
    "import numpy as np\n",
    "import pandas as pd\n",
    "import matplotlib.pyplot as plt\n",
    "import sklearn\n",
    "from sklearn.linear_model import LogisticRegression\n",
    "import statsmodels.formula.api as sm\n",
    "import os"
   ]
  },
  {
   "cell_type": "markdown",
   "metadata": {},
   "source": [
    "In logistic regression, we are modelling a quantity that has two possible outcomes. Without loss of generality, we can label these outcomes a 0 and 1.\n",
    "\n",
    "Consider a set of credit-card data. A scatter plot of 'In Default' status against balance might look like the one below,\n",
    "\n",
    "![](./DefaultPlot.png)"
   ]
  },
  {
   "cell_type": "markdown",
   "metadata": {},
   "source": [
    "If we use a linear regression approach, we only have two unique response variable values (0 and 1), but a lot of scatter on the x-axis. The scatter plot doesn't suggest that there is an obvious linear relationship present.\n",
    "\n",
    "Instead we model the probability, $P(1 | x)$, of getting the outcome $1$ when the inputs (covariates) are $x$. For simplicity, we use $p$ to denote $P(1 | x)$. In logistic regression the logit of $p$ is modelled as a linear combination of the features $x$. That is we write,\n",
    "\n",
    "$\\log \\left ( \\frac{p}{1-p} \\right ) = {\\boldsymbol \\beta}^{\\top}{\\boldsymbol x}$\n",
    "\n",
    "This is the same saying,\n",
    "\n",
    "$p\\;=\\;P(1 | x)\\;=\\;\\frac{\\exp({\\boldsymbol \\beta}^{\\top}{\\boldsymbol x})}{1 + \\exp({\\boldsymbol \\beta}^{\\top}{\\boldsymbol x})}$\n",
    "\n",
    "The function $\\exp(x)/(1+\\exp(x))$ is known as the sigmoid function and is shown below,\n",
    "\n",
    "![](./SigmoidFunction.png)\n",
    "\n",
    "The vector of coefficients, ${\\boldsymbol \\beta}$, are the parameters of our machine learning model. We determine 'optimal' values of ${\\boldsymbol \\beta}$ by maximizing the likelihood of the training data. That is, the negative log-likelihood of the training data is our loss function.\n",
    "\n",
    "In python there are a number of packages that will do the optimization of the loss function for us. For example we can use either scikit-learn, or statsmodels.\n",
    "\n",
    "Let's look at both packages using a single input feature example with simulated response data so that we can compare our coefficient estimates to the ground truth."
   ]
  },
  {
   "cell_type": "code",
   "execution_count": 4,
   "metadata": {},
   "outputs": [],
   "source": [
    "# generate training data\n",
    "np.random.seed( 2019 )\n",
    "nTrain = 300 # nuber of points in our training set \n",
    "\n",
    "# set the coefficients of the straight line\n",
    "alpha = -1.0\n",
    "beta = 0.8\n",
    "\n",
    "# generate the x values of our training data\n",
    "mu_covariate = 0.2\n",
    "sigma_covariate = 1.0\n",
    "x = np.random.normal(loc=mu_covariate, scale=sigma_covariate, size = nTrain)\n",
    "\n",
    "# generate the response values\n",
    "# These are obtained by first computing the positive category probability and \n",
    "# then sampling using that probability\n",
    "logit_p = alpha + (beta * x)\n",
    "p = np.exp( logit_p ) / ( 1.0 + np.exp( logit_p ) )\n",
    "\n",
    "clicked = (p > np.random.rand( nTrain ))*1\n",
    "\n",
    "\n",
    "# reshape covariate for use in sklearn\n",
    "x = x.reshape(-1,1)"
   ]
  },
  {
   "cell_type": "code",
   "execution_count": 5,
   "metadata": {},
   "outputs": [],
   "source": [
    "# create scikit-learn logistic regression model\n",
    "clf = LogisticRegression(random_state=0, solver='lbfgs', penalty='none').fit(x, clicked)"
   ]
  },
  {
   "cell_type": "code",
   "execution_count": 6,
   "metadata": {},
   "outputs": [
    {
     "data": {
      "text/plain": [
       "array([[0.82415928]])"
      ]
     },
     "execution_count": 6,
     "metadata": {},
     "output_type": "execute_result"
    }
   ],
   "source": [
    "# Look at scikit-learn model coefficients\n",
    "clf.coef_"
   ]
  },
  {
   "cell_type": "markdown",
   "metadata": {},
   "source": [
    "It looks like we get pretty close to the actual true value of the coefficient. Similarly with the estimate of the intercept."
   ]
  },
  {
   "cell_type": "code",
   "execution_count": 7,
   "metadata": {},
   "outputs": [
    {
     "data": {
      "text/plain": [
       "array([-0.87659291])"
      ]
     },
     "execution_count": 7,
     "metadata": {},
     "output_type": "execute_result"
    }
   ],
   "source": [
    "# Look at scikit-learn model intercept\n",
    "clf.intercept_"
   ]
  },
  {
   "cell_type": "markdown",
   "metadata": {},
   "source": [
    "Let's do the same thing using the statsmodels python package, as we get a lot more diagnostic information out-of-the-box with statsmodels"
   ]
  },
  {
   "cell_type": "code",
   "execution_count": 8,
   "metadata": {},
   "outputs": [
    {
     "data": {
      "text/html": [
       "<div>\n",
       "<style scoped>\n",
       "    .dataframe tbody tr th:only-of-type {\n",
       "        vertical-align: middle;\n",
       "    }\n",
       "\n",
       "    .dataframe tbody tr th {\n",
       "        vertical-align: top;\n",
       "    }\n",
       "\n",
       "    .dataframe thead th {\n",
       "        text-align: right;\n",
       "    }\n",
       "</style>\n",
       "<table border=\"1\" class=\"dataframe\">\n",
       "  <thead>\n",
       "    <tr style=\"text-align: right;\">\n",
       "      <th></th>\n",
       "      <th>clicked</th>\n",
       "      <th>x</th>\n",
       "    </tr>\n",
       "  </thead>\n",
       "  <tbody>\n",
       "    <tr>\n",
       "      <th>0</th>\n",
       "      <td>0</td>\n",
       "      <td>-0.017679</td>\n",
       "    </tr>\n",
       "    <tr>\n",
       "      <th>1</th>\n",
       "      <td>0</td>\n",
       "      <td>1.021455</td>\n",
       "    </tr>\n",
       "    <tr>\n",
       "      <th>2</th>\n",
       "      <td>1</td>\n",
       "      <td>1.681278</td>\n",
       "    </tr>\n",
       "    <tr>\n",
       "      <th>3</th>\n",
       "      <td>1</td>\n",
       "      <td>1.531864</td>\n",
       "    </tr>\n",
       "    <tr>\n",
       "      <th>4</th>\n",
       "      <td>0</td>\n",
       "      <td>-0.161865</td>\n",
       "    </tr>\n",
       "  </tbody>\n",
       "</table>\n",
       "</div>"
      ],
      "text/plain": [
       "   clicked         x\n",
       "0        0 -0.017679\n",
       "1        0  1.021455\n",
       "2        1  1.681278\n",
       "3        1  1.531864\n",
       "4        0 -0.161865"
      ]
     },
     "execution_count": 8,
     "metadata": {},
     "output_type": "execute_result"
    }
   ],
   "source": [
    "# create pandas dataframe from training data, for use with statsmodels package\n",
    "df_clicked = pd.concat( [pd.DataFrame( clicked, columns=['clicked'] ), pd.DataFrame( x, columns=['x'] )], axis=1 )\n",
    "df_clicked.head()"
   ]
  },
  {
   "cell_type": "code",
   "execution_count": 9,
   "metadata": {},
   "outputs": [
    {
     "name": "stdout",
     "output_type": "stream",
     "text": [
      "Optimization terminated successfully.\n",
      "         Current function value: 0.585123\n",
      "         Iterations 5\n"
     ]
    }
   ],
   "source": [
    "# create statsmodel logistic regression model\n",
    "model_sim = sm.logit(formula='clicked ~ x', data=df_clicked) \n",
    "result_sim = model_sim.fit()"
   ]
  },
  {
   "cell_type": "code",
   "execution_count": 10,
   "metadata": {},
   "outputs": [
    {
     "data": {
      "text/html": [
       "<table class=\"simpletable\">\n",
       "<caption>Logit Regression Results</caption>\n",
       "<tr>\n",
       "  <th>Dep. Variable:</th>        <td>clicked</td>     <th>  No. Observations:  </th>  <td>   300</td>  \n",
       "</tr>\n",
       "<tr>\n",
       "  <th>Model:</th>                 <td>Logit</td>      <th>  Df Residuals:      </th>  <td>   298</td>  \n",
       "</tr>\n",
       "<tr>\n",
       "  <th>Method:</th>                 <td>MLE</td>       <th>  Df Model:          </th>  <td>     1</td>  \n",
       "</tr>\n",
       "<tr>\n",
       "  <th>Date:</th>            <td>Tue, 13 Aug 2019</td> <th>  Pseudo R-squ.:     </th>  <td>0.09626</td> \n",
       "</tr>\n",
       "<tr>\n",
       "  <th>Time:</th>                <td>14:04:49</td>     <th>  Log-Likelihood:    </th> <td> -175.54</td> \n",
       "</tr>\n",
       "<tr>\n",
       "  <th>converged:</th>             <td>True</td>       <th>  LL-Null:           </th> <td> -194.23</td> \n",
       "</tr>\n",
       "<tr>\n",
       "  <th>Covariance Type:</th>     <td>nonrobust</td>    <th>  LLR p-value:       </th> <td>9.651e-10</td>\n",
       "</tr>\n",
       "</table>\n",
       "<table class=\"simpletable\">\n",
       "<tr>\n",
       "      <td></td>         <th>coef</th>     <th>std err</th>      <th>z</th>      <th>P>|z|</th>  <th>[0.025</th>    <th>0.975]</th>  \n",
       "</tr>\n",
       "<tr>\n",
       "  <th>Intercept</th> <td>   -0.8766</td> <td>    0.142</td> <td>   -6.166</td> <td> 0.000</td> <td>   -1.155</td> <td>   -0.598</td>\n",
       "</tr>\n",
       "<tr>\n",
       "  <th>x</th>         <td>    0.8242</td> <td>    0.148</td> <td>    5.568</td> <td> 0.000</td> <td>    0.534</td> <td>    1.114</td>\n",
       "</tr>\n",
       "</table>"
      ],
      "text/plain": [
       "<class 'statsmodels.iolib.summary.Summary'>\n",
       "\"\"\"\n",
       "                           Logit Regression Results                           \n",
       "==============================================================================\n",
       "Dep. Variable:                clicked   No. Observations:                  300\n",
       "Model:                          Logit   Df Residuals:                      298\n",
       "Method:                           MLE   Df Model:                            1\n",
       "Date:                Tue, 13 Aug 2019   Pseudo R-squ.:                 0.09626\n",
       "Time:                        14:04:49   Log-Likelihood:                -175.54\n",
       "converged:                       True   LL-Null:                       -194.23\n",
       "Covariance Type:            nonrobust   LLR p-value:                 9.651e-10\n",
       "==============================================================================\n",
       "                 coef    std err          z      P>|z|      [0.025      0.975]\n",
       "------------------------------------------------------------------------------\n",
       "Intercept     -0.8766      0.142     -6.166      0.000      -1.155      -0.598\n",
       "x              0.8242      0.148      5.568      0.000       0.534       1.114\n",
       "==============================================================================\n",
       "\"\"\""
      ]
     },
     "execution_count": 10,
     "metadata": {},
     "output_type": "execute_result"
    }
   ],
   "source": [
    "result_sim.summary()"
   ]
  },
  {
   "cell_type": "markdown",
   "metadata": {},
   "source": [
    "Now let's return to our credit-card default data set"
   ]
  },
  {
   "cell_type": "markdown",
   "metadata": {},
   "source": [
    "## 'Real' dataset\n",
    "\n",
    "Default data and this notebook are in the github repository below,\n",
    "\n",
    "https://github.com/dchoyle/LogisticRegressionInPython"
   ]
  },
  {
   "cell_type": "code",
   "execution_count": 11,
   "metadata": {},
   "outputs": [
    {
     "data": {
      "text/html": [
       "<div>\n",
       "<style scoped>\n",
       "    .dataframe tbody tr th:only-of-type {\n",
       "        vertical-align: middle;\n",
       "    }\n",
       "\n",
       "    .dataframe tbody tr th {\n",
       "        vertical-align: top;\n",
       "    }\n",
       "\n",
       "    .dataframe thead th {\n",
       "        text-align: right;\n",
       "    }\n",
       "</style>\n",
       "<table border=\"1\" class=\"dataframe\">\n",
       "  <thead>\n",
       "    <tr style=\"text-align: right;\">\n",
       "      <th></th>\n",
       "      <th>default</th>\n",
       "      <th>student</th>\n",
       "      <th>balance</th>\n",
       "      <th>income</th>\n",
       "    </tr>\n",
       "  </thead>\n",
       "  <tbody>\n",
       "    <tr>\n",
       "      <th>0</th>\n",
       "      <td>No</td>\n",
       "      <td>No</td>\n",
       "      <td>729.526495</td>\n",
       "      <td>44361.625074</td>\n",
       "    </tr>\n",
       "    <tr>\n",
       "      <th>1</th>\n",
       "      <td>No</td>\n",
       "      <td>Yes</td>\n",
       "      <td>817.180407</td>\n",
       "      <td>12106.134700</td>\n",
       "    </tr>\n",
       "    <tr>\n",
       "      <th>2</th>\n",
       "      <td>No</td>\n",
       "      <td>No</td>\n",
       "      <td>1073.549164</td>\n",
       "      <td>31767.138947</td>\n",
       "    </tr>\n",
       "    <tr>\n",
       "      <th>3</th>\n",
       "      <td>No</td>\n",
       "      <td>No</td>\n",
       "      <td>529.250605</td>\n",
       "      <td>35704.493935</td>\n",
       "    </tr>\n",
       "    <tr>\n",
       "      <th>4</th>\n",
       "      <td>No</td>\n",
       "      <td>No</td>\n",
       "      <td>785.655883</td>\n",
       "      <td>38463.495879</td>\n",
       "    </tr>\n",
       "  </tbody>\n",
       "</table>\n",
       "</div>"
      ],
      "text/plain": [
       "  default student      balance        income\n",
       "0      No      No   729.526495  44361.625074\n",
       "1      No     Yes   817.180407  12106.134700\n",
       "2      No      No  1073.549164  31767.138947\n",
       "3      No      No   529.250605  35704.493935\n",
       "4      No      No   785.655883  38463.495879"
      ]
     },
     "execution_count": 11,
     "metadata": {},
     "output_type": "execute_result"
    }
   ],
   "source": [
    "#Use Default dataset from ISLR - need to export from R\n",
    "import pandas as pd\n",
    "import os\n",
    "\n",
    "defaultFileInPath = os.path.join( os.getcwd(), 'Default.csv') \n",
    "default_raw = pd.read_csv( defaultFileInPath )\n",
    "default_raw.head()"
   ]
  },
  {
   "cell_type": "code",
   "execution_count": 12,
   "metadata": {},
   "outputs": [
    {
     "data": {
      "text/html": [
       "<div>\n",
       "<style scoped>\n",
       "    .dataframe tbody tr th:only-of-type {\n",
       "        vertical-align: middle;\n",
       "    }\n",
       "\n",
       "    .dataframe tbody tr th {\n",
       "        vertical-align: top;\n",
       "    }\n",
       "\n",
       "    .dataframe thead th {\n",
       "        text-align: right;\n",
       "    }\n",
       "</style>\n",
       "<table border=\"1\" class=\"dataframe\">\n",
       "  <thead>\n",
       "    <tr style=\"text-align: right;\">\n",
       "      <th></th>\n",
       "      <th>balance</th>\n",
       "      <th>income</th>\n",
       "    </tr>\n",
       "  </thead>\n",
       "  <tbody>\n",
       "    <tr>\n",
       "      <th>count</th>\n",
       "      <td>10000.000000</td>\n",
       "      <td>10000.000000</td>\n",
       "    </tr>\n",
       "    <tr>\n",
       "      <th>mean</th>\n",
       "      <td>835.374886</td>\n",
       "      <td>33516.981876</td>\n",
       "    </tr>\n",
       "    <tr>\n",
       "      <th>std</th>\n",
       "      <td>483.714985</td>\n",
       "      <td>13336.639563</td>\n",
       "    </tr>\n",
       "    <tr>\n",
       "      <th>min</th>\n",
       "      <td>0.000000</td>\n",
       "      <td>771.967729</td>\n",
       "    </tr>\n",
       "    <tr>\n",
       "      <th>25%</th>\n",
       "      <td>481.731105</td>\n",
       "      <td>21340.462903</td>\n",
       "    </tr>\n",
       "    <tr>\n",
       "      <th>50%</th>\n",
       "      <td>823.636973</td>\n",
       "      <td>34552.644802</td>\n",
       "    </tr>\n",
       "    <tr>\n",
       "      <th>75%</th>\n",
       "      <td>1166.308386</td>\n",
       "      <td>43807.729272</td>\n",
       "    </tr>\n",
       "    <tr>\n",
       "      <th>max</th>\n",
       "      <td>2654.322576</td>\n",
       "      <td>73554.233495</td>\n",
       "    </tr>\n",
       "  </tbody>\n",
       "</table>\n",
       "</div>"
      ],
      "text/plain": [
       "            balance        income\n",
       "count  10000.000000  10000.000000\n",
       "mean     835.374886  33516.981876\n",
       "std      483.714985  13336.639563\n",
       "min        0.000000    771.967729\n",
       "25%      481.731105  21340.462903\n",
       "50%      823.636973  34552.644802\n",
       "75%     1166.308386  43807.729272\n",
       "max     2654.322576  73554.233495"
      ]
     },
     "execution_count": 12,
     "metadata": {},
     "output_type": "execute_result"
    }
   ],
   "source": [
    "# look at the summary statistics of the features\n",
    "default_raw.describe()"
   ]
  },
  {
   "cell_type": "code",
   "execution_count": 13,
   "metadata": {},
   "outputs": [
    {
     "data": {
      "text/plain": [
       "No     9667\n",
       "Yes     333\n",
       "Name: default, dtype: int64"
      ]
     },
     "execution_count": 13,
     "metadata": {},
     "output_type": "execute_result"
    }
   ],
   "source": [
    "# let's look at the distribution of default status and student status\n",
    "default_raw['default'].value_counts()"
   ]
  },
  {
   "cell_type": "code",
   "execution_count": 14,
   "metadata": {},
   "outputs": [
    {
     "data": {
      "text/plain": [
       "No     7056\n",
       "Yes    2944\n",
       "Name: student, dtype: int64"
      ]
     },
     "execution_count": 14,
     "metadata": {},
     "output_type": "execute_result"
    }
   ],
   "source": [
    "default_raw['student'].value_counts()"
   ]
  },
  {
   "cell_type": "code",
   "execution_count": 15,
   "metadata": {},
   "outputs": [
    {
     "data": {
      "text/plain": [
       "Text(0, 0.5, 'Frequency')"
      ]
     },
     "execution_count": 15,
     "metadata": {},
     "output_type": "execute_result"
    },
    {
     "data": {
      "image/png": "[encoded data removed]",
      "text/plain": [
       "<Figure size 432x288 with 1 Axes>"
      ]
     },
     "metadata": {
      "needs_background": "light"
     },
     "output_type": "display_data"
    }
   ],
   "source": [
    "#Look at the histogram of balances and income\n",
    "n_balance, bins_balance, patches_balance = plt.hist( default_raw['balance'], 50)\n",
    "plt.xlabel('Balance')\n",
    "plt.ylabel('Frequency')"
   ]
  },
  {
   "cell_type": "code",
   "execution_count": 16,
   "metadata": {},
   "outputs": [
    {
     "data": {
      "text/plain": [
       "Text(0, 0.5, 'Frequency')"
      ]
     },
     "execution_count": 16,
     "metadata": {},
     "output_type": "execute_result"
    },
    {
     "data": {
      "image/png": "[encoded data removed]",
      "text/plain": [
       "<Figure size 432x288 with 1 Axes>"
      ]
     },
     "metadata": {
      "needs_background": "light"
     },
     "output_type": "display_data"
    }
   ],
   "source": [
    "n_income, bins_income, patches_income = plt.hist( default_raw['income'], 50)\n",
    "plt.xlabel('Income')\n",
    "plt.ylabel('Frequency')"
   ]
  },
  {
   "cell_type": "code",
   "execution_count": 17,
   "metadata": {},
   "outputs": [],
   "source": [
    "# create dummy variables\n",
    "default_raw = pd.get_dummies( default_raw, prefix=['student', 'default'], columns=['student', 'default'], drop_first=True)\n",
    "default_features = default_raw.drop( ['default_Yes'], axis=1 )\n",
    "default_outcome = default_raw['default_Yes']"
   ]
  },
  {
   "cell_type": "code",
   "execution_count": 18,
   "metadata": {},
   "outputs": [],
   "source": [
    "# focus on non-zero balances as by definition zero balances have zero risk of being in default\n",
    "default_nonZero = default_raw[default_raw.balance > 1.0e-3]\n",
    "default_nonZero_features = default_nonZero.drop( ['default_Yes'], axis=1 )\n",
    "default_nonZero_outcome = default_nonZero['default_Yes']"
   ]
  },
  {
   "cell_type": "code",
   "execution_count": 19,
   "metadata": {},
   "outputs": [],
   "source": [
    "# First split the data in training and test sets before building any classifiers\n",
    "from sklearn.model_selection import train_test_split\n",
    "X_train, X_test, y_train, y_test = train_test_split(default_nonZero_features, default_nonZero_outcome, test_size=0.2, random_state=42)\n",
    "default_train = pd.concat( [X_train, y_train], axis=1)"
   ]
  },
  {
   "cell_type": "code",
   "execution_count": 20,
   "metadata": {},
   "outputs": [],
   "source": [
    "# build scikit-learn logistic regression model\n",
    "clf_default = LogisticRegression(solver='lbfgs', C=1e12, tol=1.0e-6).fit(X_train.values, y_train.values)"
   ]
  },
  {
   "cell_type": "code",
   "execution_count": 21,
   "metadata": {},
   "outputs": [
    {
     "data": {
      "text/plain": [
       "array([[ 4.23636811e-03, -1.39876889e-04, -4.00922890e+00]])"
      ]
     },
     "execution_count": 21,
     "metadata": {},
     "output_type": "execute_result"
    }
   ],
   "source": [
    "# look at the coefficients of the scikit-learn model\n",
    "clf_default.coef_\n",
    "\n",
    "# Do we believe these coefficients?"
   ]
  },
  {
   "cell_type": "code",
   "execution_count": 22,
   "metadata": {},
   "outputs": [
    {
     "data": {
      "text/plain": [
       "Index(['balance', 'income', 'student_Yes'], dtype='object')"
      ]
     },
     "execution_count": 22,
     "metadata": {},
     "output_type": "execute_result"
    }
   ],
   "source": [
    "X_train.columns"
   ]
  },
  {
   "cell_type": "markdown",
   "metadata": {},
   "source": [
    "Note that if the linear predictor $\\eta\\;=\\;{\\boldsymbol \\beta}^{\\top}{\\boldsymbol x}$ increases by $\\Delta \\eta$ then the odds = $p/(1-p)$ increase by a factor of $e^{\\Delta\\eta}$"
   ]
  },
  {
   "cell_type": "code",
   "execution_count": 23,
   "metadata": {},
   "outputs": [
    {
     "name": "stdout",
     "output_type": "stream",
     "text": [
      "Optimization terminated successfully.\n",
      "         Current function value: 0.080049\n",
      "         Iterations 10\n"
     ]
    }
   ],
   "source": [
    "# Build statsmodel logistic regression model\n",
    "model_All = sm.logit(formula='default_Yes ~ balance + income + student_Yes', data=default_train)\n",
    "result_All = model_All.fit()"
   ]
  },
  {
   "cell_type": "code",
   "execution_count": 24,
   "metadata": {},
   "outputs": [
    {
     "data": {
      "text/html": [
       "<table class=\"simpletable\">\n",
       "<caption>Logit Regression Results</caption>\n",
       "<tr>\n",
       "  <th>Dep. Variable:</th>      <td>default_Yes</td>   <th>  No. Observations:  </th>   <td>  7600</td>  \n",
       "</tr>\n",
       "<tr>\n",
       "  <th>Model:</th>                 <td>Logit</td>      <th>  Df Residuals:      </th>   <td>  7596</td>  \n",
       "</tr>\n",
       "<tr>\n",
       "  <th>Method:</th>                 <td>MLE</td>       <th>  Df Model:          </th>   <td>     3</td>  \n",
       "</tr>\n",
       "<tr>\n",
       "  <th>Date:</th>            <td>Tue, 13 Aug 2019</td> <th>  Pseudo R-squ.:     </th>   <td>0.4724</td>  \n",
       "</tr>\n",
       "<tr>\n",
       "  <th>Time:</th>                <td>14:04:50</td>     <th>  Log-Likelihood:    </th>  <td> -608.37</td> \n",
       "</tr>\n",
       "<tr>\n",
       "  <th>converged:</th>             <td>True</td>       <th>  LL-Null:           </th>  <td> -1153.0</td> \n",
       "</tr>\n",
       "<tr>\n",
       "  <th>Covariance Type:</th>     <td>nonrobust</td>    <th>  LLR p-value:       </th> <td>7.580e-236</td>\n",
       "</tr>\n",
       "</table>\n",
       "<table class=\"simpletable\">\n",
       "<tr>\n",
       "       <td></td>          <th>coef</th>     <th>std err</th>      <th>z</th>      <th>P>|z|</th>  <th>[0.025</th>    <th>0.975]</th>  \n",
       "</tr>\n",
       "<tr>\n",
       "  <th>Intercept</th>   <td>  -11.0255</td> <td>    0.568</td> <td>  -19.424</td> <td> 0.000</td> <td>  -12.138</td> <td>   -9.913</td>\n",
       "</tr>\n",
       "<tr>\n",
       "  <th>balance</th>     <td>    0.0059</td> <td>    0.000</td> <td>   22.128</td> <td> 0.000</td> <td>    0.005</td> <td>    0.006</td>\n",
       "</tr>\n",
       "<tr>\n",
       "  <th>income</th>      <td>-1.165e-08</td> <td> 9.41e-06</td> <td>   -0.001</td> <td> 0.999</td> <td>-1.85e-05</td> <td> 1.84e-05</td>\n",
       "</tr>\n",
       "<tr>\n",
       "  <th>student_Yes</th> <td>   -0.7116</td> <td>    0.265</td> <td>   -2.688</td> <td> 0.007</td> <td>   -1.230</td> <td>   -0.193</td>\n",
       "</tr>\n",
       "</table><br/><br/>Possibly complete quasi-separation: A fraction 0.13 of observations can be<br/>perfectly predicted. This might indicate that there is complete<br/>quasi-separation. In this case some parameters will not be identified."
      ],
      "text/plain": [
       "<class 'statsmodels.iolib.summary.Summary'>\n",
       "\"\"\"\n",
       "                           Logit Regression Results                           \n",
       "==============================================================================\n",
       "Dep. Variable:            default_Yes   No. Observations:                 7600\n",
       "Model:                          Logit   Df Residuals:                     7596\n",
       "Method:                           MLE   Df Model:                            3\n",
       "Date:                Tue, 13 Aug 2019   Pseudo R-squ.:                  0.4724\n",
       "Time:                        14:04:50   Log-Likelihood:                -608.37\n",
       "converged:                       True   LL-Null:                       -1153.0\n",
       "Covariance Type:            nonrobust   LLR p-value:                7.580e-236\n",
       "===============================================================================\n",
       "                  coef    std err          z      P>|z|      [0.025      0.975]\n",
       "-------------------------------------------------------------------------------\n",
       "Intercept     -11.0255      0.568    -19.424      0.000     -12.138      -9.913\n",
       "balance         0.0059      0.000     22.128      0.000       0.005       0.006\n",
       "income      -1.165e-08   9.41e-06     -0.001      0.999   -1.85e-05    1.84e-05\n",
       "student_Yes    -0.7116      0.265     -2.688      0.007      -1.230      -0.193\n",
       "===============================================================================\n",
       "\n",
       "Possibly complete quasi-separation: A fraction 0.13 of observations can be\n",
       "perfectly predicted. This might indicate that there is complete\n",
       "quasi-separation. In this case some parameters will not be identified.\n",
       "\"\"\""
      ]
     },
     "execution_count": 24,
     "metadata": {},
     "output_type": "execute_result"
    }
   ],
   "source": [
    "result_All.summary()"
   ]
  },
  {
   "cell_type": "code",
   "execution_count": 25,
   "metadata": {},
   "outputs": [
    {
     "name": "stdout",
     "output_type": "stream",
     "text": [
      "Optimization terminated successfully.\n",
      "         Current function value: 0.081311\n",
      "         Iterations 10\n"
     ]
    }
   ],
   "source": [
    "# Build statsmodel logistic regression model just with balance as a predictor\n",
    "model = sm.logit(formula='default_Yes ~ balance', data=default_train)\n",
    "result = model.fit()"
   ]
  },
  {
   "cell_type": "code",
   "execution_count": 26,
   "metadata": {},
   "outputs": [
    {
     "data": {
      "text/html": [
       "<table class=\"simpletable\">\n",
       "<caption>Logit Regression Results</caption>\n",
       "<tr>\n",
       "  <th>Dep. Variable:</th>      <td>default_Yes</td>   <th>  No. Observations:  </th>   <td>  7600</td>  \n",
       "</tr>\n",
       "<tr>\n",
       "  <th>Model:</th>                 <td>Logit</td>      <th>  Df Residuals:      </th>   <td>  7598</td>  \n",
       "</tr>\n",
       "<tr>\n",
       "  <th>Method:</th>                 <td>MLE</td>       <th>  Df Model:          </th>   <td>     1</td>  \n",
       "</tr>\n",
       "<tr>\n",
       "  <th>Date:</th>            <td>Tue, 13 Aug 2019</td> <th>  Pseudo R-squ.:     </th>   <td>0.4640</td>  \n",
       "</tr>\n",
       "<tr>\n",
       "  <th>Time:</th>                <td>14:04:50</td>     <th>  Log-Likelihood:    </th>  <td> -617.97</td> \n",
       "</tr>\n",
       "<tr>\n",
       "  <th>converged:</th>             <td>True</td>       <th>  LL-Null:           </th>  <td> -1153.0</td> \n",
       "</tr>\n",
       "<tr>\n",
       "  <th>Covariance Type:</th>     <td>nonrobust</td>    <th>  LLR p-value:       </th> <td>1.028e-234</td>\n",
       "</tr>\n",
       "</table>\n",
       "<table class=\"simpletable\">\n",
       "<tr>\n",
       "      <td></td>         <th>coef</th>     <th>std err</th>      <th>z</th>      <th>P>|z|</th>  <th>[0.025</th>    <th>0.975]</th>  \n",
       "</tr>\n",
       "<tr>\n",
       "  <th>Intercept</th> <td>  -10.9272</td> <td>    0.419</td> <td>  -26.103</td> <td> 0.000</td> <td>  -11.748</td> <td>  -10.107</td>\n",
       "</tr>\n",
       "<tr>\n",
       "  <th>balance</th>   <td>    0.0057</td> <td>    0.000</td> <td>   22.326</td> <td> 0.000</td> <td>    0.005</td> <td>    0.006</td>\n",
       "</tr>\n",
       "</table><br/><br/>Possibly complete quasi-separation: A fraction 0.11 of observations can be<br/>perfectly predicted. This might indicate that there is complete<br/>quasi-separation. In this case some parameters will not be identified."
      ],
      "text/plain": [
       "<class 'statsmodels.iolib.summary.Summary'>\n",
       "\"\"\"\n",
       "                           Logit Regression Results                           \n",
       "==============================================================================\n",
       "Dep. Variable:            default_Yes   No. Observations:                 7600\n",
       "Model:                          Logit   Df Residuals:                     7598\n",
       "Method:                           MLE   Df Model:                            1\n",
       "Date:                Tue, 13 Aug 2019   Pseudo R-squ.:                  0.4640\n",
       "Time:                        14:04:50   Log-Likelihood:                -617.97\n",
       "converged:                       True   LL-Null:                       -1153.0\n",
       "Covariance Type:            nonrobust   LLR p-value:                1.028e-234\n",
       "==============================================================================\n",
       "                 coef    std err          z      P>|z|      [0.025      0.975]\n",
       "------------------------------------------------------------------------------\n",
       "Intercept    -10.9272      0.419    -26.103      0.000     -11.748     -10.107\n",
       "balance        0.0057      0.000     22.326      0.000       0.005       0.006\n",
       "==============================================================================\n",
       "\n",
       "Possibly complete quasi-separation: A fraction 0.11 of observations can be\n",
       "perfectly predicted. This might indicate that there is complete\n",
       "quasi-separation. In this case some parameters will not be identified.\n",
       "\"\"\""
      ]
     },
     "execution_count": 26,
     "metadata": {},
     "output_type": "execute_result"
    }
   ],
   "source": [
    "result.summary()"
   ]
  },
  {
   "cell_type": "markdown",
   "metadata": {},
   "source": [
    "Our model gives us predictions of probabilities. We can convert a predicted probability to a decision (binary prediction) by thresholding,\n",
    "\n",
    "If Probability < Threshold, then Decision = 0, otherwise Decision = 1\n",
    "\n",
    "However, if we change the thresold our decisions change. Whatever the threshold we will get both False Positives (FP) and False Negatives (FN),"
   ]
  },
  {
   "cell_type": "code",
   "execution_count": 27,
   "metadata": {},
   "outputs": [],
   "source": [
    "# let's look at ROC curve of classifier to assess its accuracy\n",
    "from sklearn import metrics\n",
    "fpr, tpr, thresholds = metrics.roc_curve(y_train.values, result.predict(), pos_label=1)"
   ]
  },
  {
   "cell_type": "code",
   "execution_count": 28,
   "metadata": {},
   "outputs": [
    {
     "data": {
      "image/png": "[encoded data removed]",
      "text/plain": [
       "<Figure size 432x288 with 1 Axes>"
      ]
     },
     "metadata": {
      "needs_background": "light"
     },
     "output_type": "display_data"
    }
   ],
   "source": [
    "# Plot FPR and TPR against threshold\n",
    "plt.figure()\n",
    "plt.plot( thresholds, fpr, color=\"red\")\n",
    "plt.plot( thresholds, tpr, color=\"blue\")\n",
    "plt.xlim( [-0.05, 1.05])\n",
    "plt.ylim( [-0.05, 1.05])\n",
    "plt.xlabel( \"Threshold\" )\n",
    "plt.ylabel( \"Rate\" )\n",
    "plt.show()"
   ]
  },
  {
   "cell_type": "markdown",
   "metadata": {},
   "source": [
    "We will have to make some trade-off between TRP and FPR. How quickly the TPR changes compared to the FPR gives us a measure of the quality of the classifier. The plot of TPR against FPR is called the ROC (Receiver-Operating-Characteristic) curve."
   ]
  },
  {
   "cell_type": "code",
   "execution_count": 29,
   "metadata": {},
   "outputs": [
    {
     "data": {
      "image/png": "[encoded data removed]",
      "text/plain": [
       "<Figure size 432x288 with 1 Axes>"
      ]
     },
     "metadata": {
      "needs_background": "light"
     },
     "output_type": "display_data"
    }
   ],
   "source": [
    "plt.figure()\n",
    "plt.plot( fpr, tpr, color=\"red\")\n",
    "plt.xlabel( \"FPR\" )\n",
    "plt.ylabel( \"TPR\" )\n",
    "plt.title( \"ROC curve for credit-card defaults\")\n",
    "plt.plot([0, 1], [0, 1], color='navy', lw=2, linestyle='--')\n",
    "plt.show()"
   ]
  },
  {
   "cell_type": "markdown",
   "metadata": {},
   "source": [
    "P = Number of positives\n",
    "\n",
    "N = number of negatives\n",
    "\n",
    "FNR = 1 - TPR = FN/P . So FNR decreases as FPR increases. \n",
    "\n",
    "FPR = FP/N\n",
    "\n",
    "\n",
    "If the cost of false negative is A and the cost of a false positive is B, then overall cost function is,\n",
    "\n",
    "$Cost\\;=\\;A\\times FN\\;+\\;B\\times FP\\;=\\;A\\times P\\times (1-TPR)\\;+\\;B\\times N\\times FPR$\n",
    "\n",
    "But we have a clear relationship (curve) between TPR and FPR, and so we can write,\n",
    "\n",
    "$\\frac{Cost}{N}\\;=\\;A\\times\\frac{P}{N}\\times(1-TPR(FPR))\\;+\\;B\\times FPR$\n",
    "\n",
    "Minimizing the cost with respect to the FPR, gives the optimal FPR rate as the solution to,\n",
    "\n",
    "$\\frac{d\\,Cost/N}{d\\,FPR}\\;=\\;0\\;=\\;-A\\times\\frac{P}{N}\\times\\frac{d\\,TPR}{d\\,FPR}\\;+\\; B$\n",
    "\n",
    "which gives the optimal FPR at the point where the tangent on the ROC curve equals,\n",
    "$\\frac{B/A}{P/N}$\n"
   ]
  },
  {
   "cell_type": "code",
   "execution_count": 30,
   "metadata": {},
   "outputs": [
    {
     "data": {
      "text/plain": [
       "0.03626943005181347"
      ]
     },
     "execution_count": 30,
     "metadata": {},
     "output_type": "execute_result"
    }
   ],
   "source": [
    "# let's calculate positive to negative ratio for this training dataset\n",
    "default_counts_inTrain = default_train['default_Yes'].value_counts()\n",
    "positive_to_negative_ratio = default_counts_inTrain.iloc[1]/default_counts_inTrain.iloc[0]\n",
    "positive_to_negative_ratio"
   ]
  },
  {
   "cell_type": "code",
   "execution_count": 31,
   "metadata": {},
   "outputs": [],
   "source": [
    "# finally let's evaluate its classification accuracy on the test set with a threshold of 0.8 for\n",
    "# converting probabilities to decisions\n",
    "decision_threshold = 0.8\n",
    "testSetPredictions = (result.predict( X_test ) > decision_threshold )*1"
   ]
  },
  {
   "cell_type": "code",
   "execution_count": 32,
   "metadata": {},
   "outputs": [
    {
     "data": {
      "text/html": [
       "<div>\n",
       "<style scoped>\n",
       "    .dataframe tbody tr th:only-of-type {\n",
       "        vertical-align: middle;\n",
       "    }\n",
       "\n",
       "    .dataframe tbody tr th {\n",
       "        vertical-align: top;\n",
       "    }\n",
       "\n",
       "    .dataframe thead th {\n",
       "        text-align: right;\n",
       "    }\n",
       "</style>\n",
       "<table border=\"1\" class=\"dataframe\">\n",
       "  <thead>\n",
       "    <tr style=\"text-align: right;\">\n",
       "      <th></th>\n",
       "      <th>0</th>\n",
       "      <th>1</th>\n",
       "    </tr>\n",
       "  </thead>\n",
       "  <tbody>\n",
       "    <tr>\n",
       "      <th>0</th>\n",
       "      <td>1834</td>\n",
       "      <td>0</td>\n",
       "    </tr>\n",
       "    <tr>\n",
       "      <th>1</th>\n",
       "      <td>60</td>\n",
       "      <td>7</td>\n",
       "    </tr>\n",
       "  </tbody>\n",
       "</table>\n",
       "</div>"
      ],
      "text/plain": [
       "      0  1\n",
       "0  1834  0\n",
       "1    60  7"
      ]
     },
     "execution_count": 32,
     "metadata": {},
     "output_type": "execute_result"
    }
   ],
   "source": [
    "# look at confusion matrix\n",
    "pd.DataFrame(metrics.confusion_matrix( y_test.values, testSetPredictions))"
   ]
  },
  {
   "cell_type": "code",
   "execution_count": 33,
   "metadata": {},
   "outputs": [
    {
     "data": {
      "image/png": "[encoded data removed]",
      "text/plain": [
       "<Figure size 432x288 with 1 Axes>"
      ]
     },
     "metadata": {
      "needs_background": "light"
     },
     "output_type": "display_data"
    }
   ],
   "source": [
    "# let's look at how the total number of mistakes on the test set (the sum of the off-diagonal elements of \n",
    "# the confustion matrix changes with threshold)\n",
    "\n",
    "decision_threshold_sequence = np.arange( 0.0, 1.0, 0.01)\n",
    "mistakeCount = np.zeros( len(decision_threshold_sequence) )\n",
    "for i in range( len( decision_threshold_sequence ) ):\n",
    "    testSetPredictions_tmp = (result.predict( X_test ) > decision_threshold_sequence[i] )*1\n",
    "    confusionMatrix_tmp = metrics.confusion_matrix( y_test.values, testSetPredictions_tmp)\n",
    "    mistakeCount[i] = confusionMatrix_tmp[0,1] + confusionMatrix_tmp[1,0]\n",
    "    \n",
    "plt.figure()\n",
    "plt.plot( decision_threshold_sequence, mistakeCount, 'ro')\n",
    "plt.xlabel( \"Threshold\")\n",
    "plt.ylabel( \"Total Number of Mistakes\")\n",
    "plt.ylim( [0, 250] )\n",
    "plt.show()"
   ]
  },
  {
   "cell_type": "code",
   "execution_count": null,
   "metadata": {},
   "outputs": [],
   "source": []
  }
 ],
 "metadata": {
  "kernelspec": {
   "display_name": "Python 3",
   "language": "python",
   "name": "python3"
  },
  "language_info": {
   "codemirror_mode": {
    "name": "ipython",
    "version": 3
   },
   "file_extension": ".py",
   "mimetype": "text/x-python",
   "name": "python",
   "nbconvert_exporter": "python",
   "pygments_lexer": "ipython3",
   "version": "3.7.3"
  }
 },
 "nbformat": 4,
 "nbformat_minor": 2
}
